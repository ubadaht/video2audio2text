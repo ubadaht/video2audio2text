{
 "cells": [
  {
   "cell_type": "code",
   "execution_count": null,
   "id": "5ee4c0a5-18e4-48c9-8e31-209161705d96",
   "metadata": {},
   "outputs": [],
   "source": [
    "# install ffmpeg\n",
    "!conda install -y -c conda-forge ffmpeg"
   ]
  },
  {
   "cell_type": "code",
   "execution_count": null,
   "id": "e2ff734a-86f5-4641-a12f-efa28a8789df",
   "metadata": {},
   "outputs": [],
   "source": [
    "!pip install -U openai-whisper"
   ]
  },
  {
   "cell_type": "code",
   "execution_count": null,
   "id": "f36b8d59-b163-4d59-8f10-7630df037095",
   "metadata": {},
   "outputs": [],
   "source": [
    "import ffmpeg\n",
    "# Replace these paths with your actual file locations\n",
    "\n",
    "input_mkv = \"\"  # Replace with your file path\n",
    "output_audio = \"\" # Output audio file (use .mp3/.wav/.ogg if needed)\n",
    "\n",
    "# Run FFmpeg to extract audio (no re-encoding)\n",
    "!ffmpeg -i \"{input_mkv}\" -vn -acodec copy \"{output_audio}\""
   ]
  },
  {
   "cell_type": "code",
   "execution_count": null,
   "id": "1945e17e-d0e5-4960-84ff-486010d15f21",
   "metadata": {},
   "outputs": [],
   "source": [
    "# Check if the audio file was created\n",
    "import os\n",
    "if os.path.exists(output_audio):\n",
    "    print(\"✅ Audio extracted successfully!\")\n",
    "else:\n",
    "    print(\"❌ Failed to extract audio. Check FFmpeg output for errors.\")"
   ]
  },
  {
   "cell_type": "code",
   "execution_count": null,
   "id": "248c324d-5327-4a27-a840-562f515a19b8",
   "metadata": {},
   "outputs": [],
   "source": [
    "import whisper\n",
    "\n",
    "# Load the base model (smaller models: 'tiny', 'base', 'medium', 'large')\n",
    "model = whisper.load_model(\"base\")\n",
    "\n",
    "# Transcribe the AAC file\n",
    "result = model.transcribe(\"extracted_audio.aac\")\n",
    "\n",
    "# Save the transcription to a text file\n",
    "with open(\"transcription.txt\", \"w\") as f:\n",
    "    f.write(result[\"text\"])\n",
    "\n",
    "print(\"Transcription saved!\")"
   ]
  },
  {
   "cell_type": "code",
   "execution_count": null,
   "id": "15076d24-695f-4d1b-9b88-de73af8ec9c5",
   "metadata": {},
   "outputs": [],
   "source": []
  }
 ],
 "metadata": {
  "kernelspec": {
   "display_name": "Python 3 (ipykernel)",
   "language": "python",
   "name": "python3"
  },
  "language_info": {
   "codemirror_mode": {
    "name": "ipython",
    "version": 3
   },
   "file_extension": ".py",
   "mimetype": "text/x-python",
   "name": "python",
   "nbconvert_exporter": "python",
   "pygments_lexer": "ipython3",
   "version": "3.12.4"
  }
 },
 "nbformat": 4,
 "nbformat_minor": 5
}
